{
 "cells": [
  {
   "cell_type": "code",
   "execution_count": null,
   "id": "b9473250-4507-40d0-be60-5277f40200f4",
   "metadata": {},
   "outputs": [],
   "source": [
    "from langchain_community.cache import AzureCosmosDBSemanticCache\n",
    "from langchain.globals import set_llm_cache\n",
    "import urllib \n",
    "\n",
    "AzureCosmosDBSemanticCache\n",
    "from langchain_community.vectorstores.azure_cosmos_db import (\n",
    "    CosmosDBSimilarityType,\n",
    "    CosmosDBVectorSearchType,\n",
    ")\n",
    "\n",
    "from langchain_openai import OpenAIEmbeddings, AzureOpenAIEmbeddings\n",
    "from langchain_openai import OpenAI, AzureOpenAI\n",
    "from langchain.globals import set_llm_cache\n",
    "\n",
    "from azure.core.exceptions import AzureError\n",
    "from azure.core.credentials import AzureKeyCredential\n",
    "\n",
    "from dotenv import load_dotenv"
   ]
  },
  {
   "cell_type": "code",
   "execution_count": null,
   "id": "2229665f-185b-4da5-8722-7f2d8e048034",
   "metadata": {},
   "outputs": [],
   "source": [
    "from dotenv import dotenv_values\n",
    "\n",
    "# specify the name of the .env file name \n",
    "env_name = \"example.env\" # following example.env template change to your own .env file name\n",
    "config = dotenv_values(env_name)\n",
    "\n",
    "COSMOS_MONGO_USER = config['cosmos_db_mongo_user']\n",
    "COSMOS_MONGO_PWD = config['cosmos_db_mongo_pwd']\n",
    "COSMOS_MONGO_SERVER = config['cosmos_db_mongo_server']          "
   ]
  },
  {
   "cell_type": "code",
   "execution_count": null,
   "id": "df5a1d64-d9e6-461c-9799-7a36132e7fb6",
   "metadata": {},
   "outputs": [],
   "source": [
    "INDEX_NAME = \"VectorSearchIndex\"\n",
    "NAMESPACE = \"ExampleDB.CachingCollection\"\n",
    "\n",
    "CONNECTION_STRING = (\"mongodb+srv://\"+COSMOS_MONGO_USER+\":\"+COSMOS_MONGO_PWD+\"@\"+COSMOS_MONGO_SERVER+\"?tls=true&authMechanism=SCRAM-SHA-256&retrywrites=false&maxIdleTimeMS=120000\")\n",
    "\n",
    "DB_NAME, COLLECTION_NAME = NAMESPACE.split(\".\")"
   ]
  },
  {
   "cell_type": "code",
   "execution_count": null,
   "id": "2228252f-641d-44c2-a6e0-8018e8308fa1",
   "metadata": {},
   "outputs": [],
   "source": [
    "# Requires model version 0301 or more recent\n",
    "llm = AzureOpenAI(\n",
    "    deployment_name=config['openai_completions_deployment'],\n",
    "    model_name=config['openai_completions_model'],\n",
    "    openai_api_key=config['openai_api_key'],\n",
    "    azure_endpoint=config['openai_api_endpoint'],\n",
    "    openai_api_version=config['openai_api_version'],\n",
    "    n=2,\n",
    "    best_of=2,\n",
    "    cache=True)\n",
    "\n",
    "\n",
    "embeddings = AzureOpenAIEmbeddings(\n",
    "    azure_deployment=config['openai_embeddings_deployment'],\n",
    "    model=config['openai_embeddings_model'],\n",
    "    openai_api_key=config['openai_api_key'],\n",
    "    azure_endpoint=config['openai_api_endpoint'],\n",
    "    openai_api_version=config['openai_api_version'])"
   ]
  },
  {
   "cell_type": "code",
   "execution_count": null,
   "id": "b8261d88-f1e0-443f-94c3-07e4f94b867e",
   "metadata": {
    "scrolled": true
   },
   "outputs": [],
   "source": [
    "# Default value for these params\n",
    "num_lists = 1\n",
    "dimensions = 1536\n",
    "similarity_algorithm = CosmosDBSimilarityType.COS\n",
    "kind = CosmosDBVectorSearchType.VECTOR_IVF\n",
    "m = 16\n",
    "ef_construction = 64\n",
    "ef_search = 40\n",
    "score_threshold = 0.9\n",
    "\n",
    "set_llm_cache(\n",
    "    AzureCosmosDBSemanticCache(\n",
    "        cosmosdb_connection_string=CONNECTION_STRING,\n",
    "        cosmosdb_client=None,\n",
    "        embedding=embeddings,\n",
    "        database_name=DB_NAME,\n",
    "        collection_name=COLLECTION_NAME,\n",
    "        num_lists=num_lists,\n",
    "        similarity=similarity_algorithm,\n",
    "        kind=kind,\n",
    "        dimensions=dimensions,\n",
    "        m=m,\n",
    "        ef_construction=ef_construction,\n",
    "        ef_search=ef_search,\n",
    "        score_threshold=score_threshold    )\n",
    ")"
   ]
  },
  {
   "cell_type": "code",
   "execution_count": null,
   "id": "d2fb0417-9211-4712-ac88-3b8eceb3793f",
   "metadata": {},
   "outputs": [],
   "source": [
    "%%time\n",
    "# The first time, the quesiton/response is not yet cachced in Cosmos DB, so retrieval should be slower\n",
    "llm(\"Tell me about beer making\")"
   ]
  },
  {
   "cell_type": "code",
   "execution_count": null,
   "id": "4637d813-8ce1-4396-882e-64ddd729800a",
   "metadata": {},
   "outputs": [],
   "source": [
    "%%time\n",
    "# This quesiton/response is not yet cachced in Cosmos DB, so retrieval should be slower\n",
    "llm(\"Tell me a joke?\")"
   ]
  },
  {
   "cell_type": "code",
   "execution_count": null,
   "id": "e6538a12-cf5c-4e12-aec6-b77dcc3327aa",
   "metadata": {},
   "outputs": [],
   "source": [
    "%%time\n",
    "# The second time, the quesiton/response is cached in Cosmos DB, so retrieval should be faster\n",
    "llm(\"Tell me about beer making\")"
   ]
  },
  {
   "cell_type": "code",
   "execution_count": null,
   "id": "e5323b81-8a3f-4dc6-bfd1-9b7691b2b7a3",
   "metadata": {},
   "outputs": [],
   "source": [
    "%%time\n",
    "# This question is semantically similar to the previous one within the score_threshold amount, so retrieval should be faster\n",
    "llm(\"How do I make beer?\")"
   ]
  }
 ],
 "metadata": {
  "kernelspec": {
   "display_name": "Python 3 (ipykernel)",
   "language": "python",
   "name": "python3"
  },
  "language_info": {
   "codemirror_mode": {
    "name": "ipython",
    "version": 3
   },
   "file_extension": ".py",
   "mimetype": "text/x-python",
   "name": "python",
   "nbconvert_exporter": "python",
   "pygments_lexer": "ipython3",
   "version": "3.11.0"
  }
 },
 "nbformat": 4,
 "nbformat_minor": 5
}
