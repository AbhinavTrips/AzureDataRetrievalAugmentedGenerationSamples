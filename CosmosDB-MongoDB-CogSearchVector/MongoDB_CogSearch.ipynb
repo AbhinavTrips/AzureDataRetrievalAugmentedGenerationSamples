{
 "cells": [
  {
   "cell_type": "code",
   "execution_count": 1,
   "metadata": {},
   "outputs": [],
   "source": [
    "import pandas as pd\n",
    "import pymongo\n",
    "import openai\n",
    "import requests\n",
    "import json\n",
    "from dotenv import dotenv_values"
   ]
  },
  {
   "attachments": {},
   "cell_type": "markdown",
   "metadata": {},
   "source": [
    "### Load environment variables and keys"
   ]
  },
  {
   "cell_type": "code",
   "execution_count": 2,
   "metadata": {},
   "outputs": [],
   "source": [
    "# specify the name of the .env file name \n",
    "env_name = \"llm.env\"\n",
    "config = dotenv_values(env_name)\n",
    "\n",
    "cosmos_connection_string = config['cosmos_connection_string']\n",
    "openai_api_key = config['openai_api_key']\n",
    "openai_api_base = config['openai_api_base']\n",
    "openai_api_version = config['openai_api_version']\n",
    "openai_deployment_embedding = config['openai_deployment_embedding']\n",
    "\n",
    "# Azure Cognitive Search\n",
    "cogsearch_name = config['cogsearch_name']\n",
    "cogsearch_api_key = config['cogsearch_api_key']\n",
    "\n",
    "# Your database and collection names\n",
    "db_name = \"reviews\"\n",
    "collection_name = \"food_reviews\"\n",
    "# Your cognitive search index name (must only contain lowercase, numbers, and dashes)\n",
    "cogsearch_index_name = \"ind_food_review_mongodb\"\n",
    "\n",
    "# We are using text-embedding-ada-002\n",
    "embedding_length = 1536"
   ]
  },
  {
   "attachments": {},
   "cell_type": "markdown",
   "metadata": {},
   "source": [
    "### Establish a connection to the database"
   ]
  },
  {
   "cell_type": "code",
   "execution_count": 3,
   "metadata": {},
   "outputs": [],
   "source": [
    "client = pymongo.MongoClient(cosmos_connection_string)"
   ]
  },
  {
   "attachments": {},
   "cell_type": "markdown",
   "metadata": {},
   "source": [
    "### Create the database and collection"
   ]
  },
  {
   "cell_type": "code",
   "execution_count": 4,
   "metadata": {},
   "outputs": [
    {
     "name": "stdout",
     "output_type": "stream",
     "text": [
      "Using database: 'reviews'.\n",
      "\n"
     ]
    }
   ],
   "source": [
    "# Create database if it doesn't exist\n",
    "db = client[db_name]\n",
    "if db_name not in client.list_database_names():\n",
    "    # Create a database with 400 RU throughput that can be shared across\n",
    "    # the DB's collections\n",
    "    db.command({\"customAction\": \"CreateDatabase\", \"offerThroughput\": 400})\n",
    "    print(\"Created db '{}' with shared throughput.\\n\".format(db_name))\n",
    "else:\n",
    "    print(\"Using database: '{}'.\\n\".format(db_name))"
   ]
  },
  {
   "cell_type": "code",
   "execution_count": 5,
   "metadata": {},
   "outputs": [
    {
     "name": "stdout",
     "output_type": "stream",
     "text": [
      "Using collection: 'food_reviews'.\n",
      "\n"
     ]
    }
   ],
   "source": [
    "# Create collection if it doesn't exist\n",
    "collection = db[collection_name]\n",
    "if collection_name not in db.list_collection_names():\n",
    "    # Creates a unsharded collection that uses the DBs shared throughput\n",
    "    db.command(\n",
    "        {\"customAction\": \"CreateCollection\", \"collection\": collection_name}\n",
    "    )\n",
    "    print(\"Created collection '{}'.\\n\".format(collection_name))\n",
    "else:\n",
    "    print(\"Using collection: '{}'.\\n\".format(collection_name))"
   ]
  },
  {
   "cell_type": "code",
   "execution_count": 6,
   "metadata": {},
   "outputs": [],
   "source": [
    "collection = client[db_name][collection_name]"
   ]
  },
  {
   "attachments": {},
   "cell_type": "markdown",
   "metadata": {},
   "source": [
    "### Create an index on Id and insert out dataframe to the collection"
   ]
  },
  {
   "cell_type": "code",
   "execution_count": 7,
   "metadata": {},
   "outputs": [
    {
     "name": "stdout",
     "output_type": "stream",
     "text": [
      "Collection 'food_reviews' already contains documents.\n",
      "\n"
     ]
    }
   ],
   "source": [
    "df = pd.read_csv('Reviews_small.csv')\n",
    "\n",
    "if collection.count_documents({}) == 0:\n",
    "    print(f\"Inserting documents into collection '{collection_name}'.\\n\")\n",
    "    collection.create_index('Id')\n",
    "    collection.insert_many(df.to_dict('records'))\n",
    "else:\n",
    "    print(f\"Collection '{collection_name}' already contains documents.\\n\")"
   ]
  },
  {
   "attachments": {},
   "cell_type": "markdown",
   "metadata": {},
   "source": [
    "### Create content and generate embeddings"
   ]
  },
  {
   "cell_type": "code",
   "execution_count": 8,
   "metadata": {},
   "outputs": [
    {
     "data": {
      "text/plain": [
       "0    productid: B001E4KFG0 score: 5 text: I have bo...\n",
       "1    productid: B00813GRG4 score: 1 text: Product a...\n",
       "2    productid: B000LQOCH0 score: 4 text: This is a...\n",
       "3    productid: B000UA0QIQ score: 2 text: If you ar...\n",
       "4    productid: B006K2ZZ7K score: 5 text: Great taf...\n",
       "Name: combined, dtype: object"
      ]
     },
     "execution_count": 8,
     "metadata": {},
     "output_type": "execute_result"
    }
   ],
   "source": [
    "# We will combine productid, score, and text into a single field to run embeddings on\n",
    "df['combined'] = 'productid: ' + df['ProductId'] + ' ' + 'score: ' + df['Score'].astype(str) + ' ' + 'text: ' + df['Text']\n",
    "df['combined'].head()"
   ]
  },
  {
   "cell_type": "code",
   "execution_count": 9,
   "metadata": {},
   "outputs": [
    {
     "data": {
      "text/html": [
       "<div>\n",
       "<style scoped>\n",
       "    .dataframe tbody tr th:only-of-type {\n",
       "        vertical-align: middle;\n",
       "    }\n",
       "\n",
       "    .dataframe tbody tr th {\n",
       "        vertical-align: top;\n",
       "    }\n",
       "\n",
       "    .dataframe thead th {\n",
       "        text-align: right;\n",
       "    }\n",
       "</style>\n",
       "<table border=\"1\" class=\"dataframe\">\n",
       "  <thead>\n",
       "    <tr style=\"text-align: right;\">\n",
       "      <th></th>\n",
       "      <th>Id</th>\n",
       "      <th>ProductId</th>\n",
       "      <th>UserId</th>\n",
       "      <th>ProfileName</th>\n",
       "      <th>HelpfulnessNumerator</th>\n",
       "      <th>HelpfulnessDenominator</th>\n",
       "      <th>Score</th>\n",
       "      <th>Time</th>\n",
       "      <th>Summary</th>\n",
       "      <th>Text</th>\n",
       "      <th>combined</th>\n",
       "      <th>embedding</th>\n",
       "    </tr>\n",
       "  </thead>\n",
       "  <tbody>\n",
       "    <tr>\n",
       "      <th>0</th>\n",
       "      <td>1</td>\n",
       "      <td>B001E4KFG0</td>\n",
       "      <td>A3SGXH7AUHU8GW</td>\n",
       "      <td>delmartian</td>\n",
       "      <td>1</td>\n",
       "      <td>1</td>\n",
       "      <td>5</td>\n",
       "      <td>1303862400</td>\n",
       "      <td>Good Quality Dog Food</td>\n",
       "      <td>I have bought several of the Vitality canned d...</td>\n",
       "      <td>productid: B001E4KFG0 score: 5 text: I have bo...</td>\n",
       "      <td>[-0.005925467703491449, -0.0029136091470718384...</td>\n",
       "    </tr>\n",
       "    <tr>\n",
       "      <th>1</th>\n",
       "      <td>2</td>\n",
       "      <td>B00813GRG4</td>\n",
       "      <td>A1D87F6ZCVE5NK</td>\n",
       "      <td>dll pa</td>\n",
       "      <td>0</td>\n",
       "      <td>0</td>\n",
       "      <td>1</td>\n",
       "      <td>1346976000</td>\n",
       "      <td>Not as Advertised</td>\n",
       "      <td>Product arrived labeled as Jumbo Salted Peanut...</td>\n",
       "      <td>productid: B00813GRG4 score: 1 text: Product a...</td>\n",
       "      <td>[-0.025345874950289726, -0.015591269358992577,...</td>\n",
       "    </tr>\n",
       "    <tr>\n",
       "      <th>2</th>\n",
       "      <td>3</td>\n",
       "      <td>B000LQOCH0</td>\n",
       "      <td>ABXLMWJIXXAIN</td>\n",
       "      <td>Natalia Corres \"Natalia Corres\"</td>\n",
       "      <td>1</td>\n",
       "      <td>1</td>\n",
       "      <td>4</td>\n",
       "      <td>1219017600</td>\n",
       "      <td>\"Delight\" says it all</td>\n",
       "      <td>This is a confection that has been around a fe...</td>\n",
       "      <td>productid: B000LQOCH0 score: 4 text: This is a...</td>\n",
       "      <td>[0.011405655182898045, 0.007502448279410601, -...</td>\n",
       "    </tr>\n",
       "    <tr>\n",
       "      <th>3</th>\n",
       "      <td>4</td>\n",
       "      <td>B000UA0QIQ</td>\n",
       "      <td>A395BORC6FGVXV</td>\n",
       "      <td>Karl</td>\n",
       "      <td>3</td>\n",
       "      <td>3</td>\n",
       "      <td>2</td>\n",
       "      <td>1307923200</td>\n",
       "      <td>Cough Medicine</td>\n",
       "      <td>If you are looking for the secret ingredient i...</td>\n",
       "      <td>productid: B000UA0QIQ score: 2 text: If you ar...</td>\n",
       "      <td>[0.008057798258960247, 0.006768684834241867, -...</td>\n",
       "    </tr>\n",
       "    <tr>\n",
       "      <th>4</th>\n",
       "      <td>5</td>\n",
       "      <td>B006K2ZZ7K</td>\n",
       "      <td>A1UQRSCLF8GW1T</td>\n",
       "      <td>Michael D. Bigham \"M. Wassir\"</td>\n",
       "      <td>0</td>\n",
       "      <td>0</td>\n",
       "      <td>5</td>\n",
       "      <td>1350777600</td>\n",
       "      <td>Great taffy</td>\n",
       "      <td>Great taffy at a great price.  There was a wid...</td>\n",
       "      <td>productid: B006K2ZZ7K score: 5 text: Great taf...</td>\n",
       "      <td>[-0.023589162155985832, -0.009200308471918106,...</td>\n",
       "    </tr>\n",
       "  </tbody>\n",
       "</table>\n",
       "</div>"
      ],
      "text/plain": [
       "   Id   ProductId          UserId                      ProfileName  \\\n",
       "0   1  B001E4KFG0  A3SGXH7AUHU8GW                       delmartian   \n",
       "1   2  B00813GRG4  A1D87F6ZCVE5NK                           dll pa   \n",
       "2   3  B000LQOCH0   ABXLMWJIXXAIN  Natalia Corres \"Natalia Corres\"   \n",
       "3   4  B000UA0QIQ  A395BORC6FGVXV                             Karl   \n",
       "4   5  B006K2ZZ7K  A1UQRSCLF8GW1T    Michael D. Bigham \"M. Wassir\"   \n",
       "\n",
       "   HelpfulnessNumerator  HelpfulnessDenominator  Score        Time  \\\n",
       "0                     1                       1      5  1303862400   \n",
       "1                     0                       0      1  1346976000   \n",
       "2                     1                       1      4  1219017600   \n",
       "3                     3                       3      2  1307923200   \n",
       "4                     0                       0      5  1350777600   \n",
       "\n",
       "                 Summary                                               Text  \\\n",
       "0  Good Quality Dog Food  I have bought several of the Vitality canned d...   \n",
       "1      Not as Advertised  Product arrived labeled as Jumbo Salted Peanut...   \n",
       "2  \"Delight\" says it all  This is a confection that has been around a fe...   \n",
       "3         Cough Medicine  If you are looking for the secret ingredient i...   \n",
       "4            Great taffy  Great taffy at a great price.  There was a wid...   \n",
       "\n",
       "                                            combined  \\\n",
       "0  productid: B001E4KFG0 score: 5 text: I have bo...   \n",
       "1  productid: B00813GRG4 score: 1 text: Product a...   \n",
       "2  productid: B000LQOCH0 score: 4 text: This is a...   \n",
       "3  productid: B000UA0QIQ score: 2 text: If you ar...   \n",
       "4  productid: B006K2ZZ7K score: 5 text: Great taf...   \n",
       "\n",
       "                                           embedding  \n",
       "0  [-0.005925467703491449, -0.0029136091470718384...  \n",
       "1  [-0.025345874950289726, -0.015591269358992577,...  \n",
       "2  [0.011405655182898045, 0.007502448279410601, -...  \n",
       "3  [0.008057798258960247, 0.006768684834241867, -...  \n",
       "4  [-0.023589162155985832, -0.009200308471918106,...  "
      ]
     },
     "execution_count": 9,
     "metadata": {},
     "output_type": "execute_result"
    }
   ],
   "source": [
    "openai.api_type = \"azure\"\n",
    "openai.api_key = openai_api_key\n",
    "openai.api_base = openai_api_base\n",
    "openai.api_version = openai_api_version\n",
    "\n",
    "def createEmbeddings(text):\n",
    "    response = openai.Embedding.create(input=text , engine=openai_deployment_embedding)\n",
    "    embeddings = response['data'][0]['embedding']\n",
    "    return embeddings\n",
    "\n",
    "df['embedding'] = None\n",
    "# iterate over the dataframe and create embeddings for each row\n",
    "for index, row in df.iterrows():\n",
    "    df.at[index, 'embedding'] = createEmbeddings(row['combined'])\n",
    "    \n",
    "df.head()"
   ]
  },
  {
   "attachments": {},
   "cell_type": "markdown",
   "metadata": {},
   "source": [
    "### Store the embeddings in Azure Cognitive Search Vector Store\n",
    "\n",
    "[Azure Cognitive Search](https://learn.microsoft.com/en-us/azure/search/search-what-is-azure-search) provides a simple interface to create a vector database, store and retrieve data using vector search. You can read more about Vector search [here](https://github.com/Azure/cognitive-search-vector-pr/tree/main).\n",
    "\n",
    "There are two steps to store data in AzureCogSearch vector database:\n",
    "- First, we create the index (or schema) of the vector database\n",
    "- Second, we add the chunked documents and their embeddings to the vector datastore"
   ]
  },
  {
   "cell_type": "code",
   "execution_count": 10,
   "metadata": {},
   "outputs": [
    {
     "name": "stdout",
     "output_type": "stream",
     "text": [
      "204\n",
      "\n"
     ]
    }
   ],
   "source": [
    "# Create Index for Cog Search with fields as id,  and contentVector\n",
    "# Note the datatypes for each field below\n",
    "\n",
    "url = f\"https://{cogsearch_name}.search.windows.net/indexes/{cogsearch_index_name}?api-version=2023-07-01-Preview\"\n",
    "payload = json.dumps({\n",
    "  \"name\": cogsearch_index_name,\n",
    "  \"fields\": [\n",
    "    {\n",
    "      \"name\": \"id\",\n",
    "      \"type\": \"Edm.String\",\n",
    "      \"key\": True,\n",
    "      \"filterable\": True\n",
    "    },\n",
    "    {\n",
    "      \"name\": \"contentVector\",\n",
    "      \"type\": \"Collection(Edm.Single)\",\n",
    "      \"searchable\": True,\n",
    "      \"retrievable\": True,\n",
    "      \"dimensions\": embedding_length,\n",
    "      \"vectorSearchConfiguration\": \"vectorConfig\"\n",
    "    }\n",
    "  ],\n",
    "  \"vectorSearch\": {\n",
    "    \"algorithmConfigurations\": [\n",
    "      {\n",
    "        \"name\": \"vectorConfig\",\n",
    "        \"kind\": \"hnsw\",\n",
    "      }\n",
    "    ]\n",
    "  },\n",
    "  \"semantic\": {\n",
    "    \"configurations\": [\n",
    "      {\n",
    "        \"name\": \"my-semantic-config\",\n",
    "        \"prioritizedFields\": {\n",
    "          \"prioritizedContentFields\": [\n",
    "            {\n",
    "              \"fieldName\": \"id\"\n",
    "            }\n",
    "          ],\n",
    "        }\n",
    "      }\n",
    "    ]\n",
    "  }\n",
    "})\n",
    "headers = {\n",
    "  'Content-Type': 'application/json',\n",
    "  'api-key': cogsearch_api_key\n",
    "}\n",
    "\n",
    "response = requests.request(\"PUT\", url, headers=headers, data=payload)\n",
    "print(response.status_code)\n",
    "print(response.text)"
   ]
  },
  {
   "cell_type": "code",
   "execution_count": 11,
   "metadata": {},
   "outputs": [],
   "source": [
    "def insertToCogSearch(idx, contentVector):\n",
    "    url = f\"https://{cogsearch_name}.search.windows.net/indexes/{cogsearch_index_name}/docs/index?api-version=2023-07-01-Preview\"\n",
    "\n",
    "    payload = json.dumps({\n",
    "    \"value\": [\n",
    "        {\n",
    "        \"id\": str(idx),\n",
    "        \"contentVector\": contentVector,\n",
    "        \"@search.action\": \"upload\"\n",
    "        },\n",
    "    ]\n",
    "    })\n",
    "    headers = {\n",
    "    'Content-Type': 'application/json',\n",
    "    'api-key': cogsearch_api_key,\n",
    "    }\n",
    "\n",
    "    response = requests.request(\"POST\", url, headers=headers, data=payload)\n",
    "    # print(response.json())\n",
    "\n",
    "    if response.status_code == 200 or response.status_code == 201:\n",
    "        return \"Success\"\n",
    "    else:\n",
    "        return \"Failure\"\n",
    "\n",
    "for index, row in df.iterrows():\n",
    "    response = insertToCogSearch(row['Id'], row['embedding'])\n",
    "    if response == \"Failure\":\n",
    "        print(index, response)"
   ]
  },
  {
   "attachments": {},
   "cell_type": "markdown",
   "metadata": {},
   "source": [
    "### User Query"
   ]
  },
  {
   "cell_type": "code",
   "execution_count": 12,
   "metadata": {},
   "outputs": [],
   "source": [
    "userQuestion = \"Great taffy\"\n",
    "retrieve_k = 3 # Retrieve the top 3 documents from vector database"
   ]
  },
  {
   "cell_type": "code",
   "execution_count": 13,
   "metadata": {},
   "outputs": [
    {
     "name": "stdout",
     "output_type": "stream",
     "text": [
      "200\n"
     ]
    }
   ],
   "source": [
    "# retrieve k chnuks\n",
    "def retrieve_k_chunk(k, questionEmbedding):\n",
    "    # Retrieve the top K entries\n",
    "    url = f\"https://{cogsearch_name}.search.windows.net/indexes/{cogsearch_index_name}/docs/search?api-version=2023-07-01-Preview\"\n",
    "\n",
    "    payload = json.dumps({\n",
    "    \"vector\": {\n",
    "        \"value\": questionEmbedding,\n",
    "        \"fields\": \"contentVector\",\n",
    "        \"k\": k\n",
    "    }\n",
    "    })\n",
    "    headers = {\n",
    "    'Content-Type': 'application/json',\n",
    "    'api-key': cogsearch_api_key,\n",
    "    }\n",
    "\n",
    "    response = requests.request(\"POST\", url, headers=headers, data=payload)\n",
    "    print(response.status_code)\n",
    "    output = json.loads(response.text)\n",
    "    return output\n",
    "\n",
    "# Generate embeddings for the question and retrieve the top k document chunks\n",
    "questionEmbedding = createEmbeddings(userQuestion)\n",
    "output = retrieve_k_chunk(retrieve_k, questionEmbedding)"
   ]
  },
  {
   "cell_type": "code",
   "execution_count": 14,
   "metadata": {},
   "outputs": [
    {
     "data": {
      "text/plain": [
       "[5, 8, 7]"
      ]
     },
     "execution_count": 14,
     "metadata": {},
     "output_type": "execute_result"
    }
   ],
   "source": [
    "matching_ids = [int(value['id']) for value in output['value']]\n",
    "matching_ids"
   ]
  },
  {
   "attachments": {},
   "cell_type": "markdown",
   "metadata": {},
   "source": [
    "### Retrieve text from database"
   ]
  },
  {
   "cell_type": "code",
   "execution_count": 15,
   "metadata": {},
   "outputs": [],
   "source": [
    "documents = list(collection.find({'Id': {'$in': matching_ids}}))\n"
   ]
  },
  {
   "cell_type": "code",
   "execution_count": 16,
   "metadata": {},
   "outputs": [
    {
     "data": {
      "text/html": [
       "<div>\n",
       "<style scoped>\n",
       "    .dataframe tbody tr th:only-of-type {\n",
       "        vertical-align: middle;\n",
       "    }\n",
       "\n",
       "    .dataframe tbody tr th {\n",
       "        vertical-align: top;\n",
       "    }\n",
       "\n",
       "    .dataframe thead th {\n",
       "        text-align: right;\n",
       "    }\n",
       "</style>\n",
       "<table border=\"1\" class=\"dataframe\">\n",
       "  <thead>\n",
       "    <tr style=\"text-align: right;\">\n",
       "      <th></th>\n",
       "      <th>_id</th>\n",
       "      <th>Id</th>\n",
       "      <th>ProductId</th>\n",
       "      <th>UserId</th>\n",
       "      <th>ProfileName</th>\n",
       "      <th>HelpfulnessNumerator</th>\n",
       "      <th>HelpfulnessDenominator</th>\n",
       "      <th>Score</th>\n",
       "      <th>Time</th>\n",
       "      <th>Summary</th>\n",
       "      <th>Text</th>\n",
       "    </tr>\n",
       "  </thead>\n",
       "  <tbody>\n",
       "    <tr>\n",
       "      <th>0</th>\n",
       "      <td>648ccc21781ff3183a2498fe</td>\n",
       "      <td>5</td>\n",
       "      <td>B006K2ZZ7K</td>\n",
       "      <td>A1UQRSCLF8GW1T</td>\n",
       "      <td>Michael D. Bigham \"M. Wassir\"</td>\n",
       "      <td>0</td>\n",
       "      <td>0</td>\n",
       "      <td>5</td>\n",
       "      <td>1350777600</td>\n",
       "      <td>Great taffy</td>\n",
       "      <td>Great taffy at a great price.  There was a wid...</td>\n",
       "    </tr>\n",
       "    <tr>\n",
       "      <th>1</th>\n",
       "      <td>648ccc21781ff3183a249900</td>\n",
       "      <td>7</td>\n",
       "      <td>B006K2ZZ7K</td>\n",
       "      <td>A1SP2KVKFXXRU1</td>\n",
       "      <td>David C. Sullivan</td>\n",
       "      <td>0</td>\n",
       "      <td>0</td>\n",
       "      <td>5</td>\n",
       "      <td>1340150400</td>\n",
       "      <td>Great!  Just as good as the expensive brands!</td>\n",
       "      <td>This saltwater taffy had great flavors and was...</td>\n",
       "    </tr>\n",
       "    <tr>\n",
       "      <th>2</th>\n",
       "      <td>648ccc21781ff3183a249901</td>\n",
       "      <td>8</td>\n",
       "      <td>B006K2ZZ7K</td>\n",
       "      <td>A3JRGQVEQN31IQ</td>\n",
       "      <td>Pamela G. Williams</td>\n",
       "      <td>0</td>\n",
       "      <td>0</td>\n",
       "      <td>5</td>\n",
       "      <td>1336003200</td>\n",
       "      <td>Wonderful, tasty taffy</td>\n",
       "      <td>This taffy is so good.  It is very soft and ch...</td>\n",
       "    </tr>\n",
       "  </tbody>\n",
       "</table>\n",
       "</div>"
      ],
      "text/plain": [
       "                        _id  Id   ProductId          UserId  \\\n",
       "0  648ccc21781ff3183a2498fe   5  B006K2ZZ7K  A1UQRSCLF8GW1T   \n",
       "1  648ccc21781ff3183a249900   7  B006K2ZZ7K  A1SP2KVKFXXRU1   \n",
       "2  648ccc21781ff3183a249901   8  B006K2ZZ7K  A3JRGQVEQN31IQ   \n",
       "\n",
       "                     ProfileName  HelpfulnessNumerator  \\\n",
       "0  Michael D. Bigham \"M. Wassir\"                     0   \n",
       "1              David C. Sullivan                     0   \n",
       "2             Pamela G. Williams                     0   \n",
       "\n",
       "   HelpfulnessDenominator  Score        Time  \\\n",
       "0                       0      5  1350777600   \n",
       "1                       0      5  1340150400   \n",
       "2                       0      5  1336003200   \n",
       "\n",
       "                                         Summary  \\\n",
       "0                                    Great taffy   \n",
       "1  Great!  Just as good as the expensive brands!   \n",
       "2                         Wonderful, tasty taffy   \n",
       "\n",
       "                                                Text  \n",
       "0  Great taffy at a great price.  There was a wid...  \n",
       "1  This saltwater taffy had great flavors and was...  \n",
       "2  This taffy is so good.  It is very soft and ch...  "
      ]
     },
     "execution_count": 16,
     "metadata": {},
     "output_type": "execute_result"
    }
   ],
   "source": [
    "df_retrieved = pd.DataFrame(documents)\n",
    "df_retrieved.head()"
   ]
  },
  {
   "attachments": {},
   "cell_type": "markdown",
   "metadata": {},
   "source": [
    "## OPTIONAL: Offer Response to User's Question\n",
    "To offer a response, one can either follow a simple prompting method as shown below or leverage ways used by other libraries, such as [langchain](https://python.langchain.com/en/latest/index.html)."
   ]
  },
  {
   "cell_type": "code",
   "execution_count": 17,
   "metadata": {},
   "outputs": [],
   "source": [
    "# create a prompt template \n",
    "template = \"\"\"\n",
    "    context :{context}\n",
    "    Answer the question based on the context above. Provide the product id associated with the answer as well. If the\n",
    "    information to answer the question is not present in the given context then reply \"I don't know\".\n",
    "    Query: {query}\n",
    "    Answer: \"\"\""
   ]
  },
  {
   "cell_type": "code",
   "execution_count": 18,
   "metadata": {},
   "outputs": [
    {
     "name": "stdout",
     "output_type": "stream",
     "text": [
      "productid: B006K2ZZ7K score: 5 text: Great taffy at a great price.  There was a wide assortment of yummy taffy.  Delivery was very quick.  If your a taffy lover, this is a deal.\n",
      "productid: B006K2ZZ7K score: 5 text: This saltwater taffy had great flavors and was very soft and chewy.  Each candy was individually wrapped well.  None of the candies were stuck together, which did happen in the expensive version, Fralinger's.  Would highly recommend this candy!  I served it at a beach-themed party and everyone loved it!\n",
      "productid: B006K2ZZ7K score: 5 text: This taffy is so good.  It is very soft and chewy.  The flavors are amazing.  I would definitely recommend you buying it.  Very satisfying!!\n"
     ]
    }
   ],
   "source": [
    "# Create context for the prompt by combining the productid, score, and text of retrieved rows\n",
    "df_retrieved['combined'] = 'productid: ' + df_retrieved['ProductId'] + ' ' + 'score: ' + df_retrieved['Score'].astype(str) + ' ' + 'text: ' + df_retrieved['Text']\n",
    "context = '\\n'.join(df_retrieved['combined'])\n",
    "\n",
    "print(context)"
   ]
  },
  {
   "cell_type": "code",
   "execution_count": 19,
   "metadata": {},
   "outputs": [
    {
     "name": "stdout",
     "output_type": "stream",
     "text": [
      "\n",
      "    context :productid: B006K2ZZ7K score: 5 text: Great taffy at a great price.  There was a wide assortment of yummy taffy.  Delivery was very quick.  If your a taffy lover, this is a deal.\n",
      "productid: B006K2ZZ7K score: 5 text: This saltwater taffy had great flavors and was very soft and chewy.  Each candy was individually wrapped well.  None of the candies were stuck together, which did happen in the expensive version, Fralinger's.  Would highly recommend this candy!  I served it at a beach-themed party and everyone loved it!\n",
      "productid: B006K2ZZ7K score: 5 text: This taffy is so good.  It is very soft and chewy.  The flavors are amazing.  I would definitely recommend you buying it.  Very satisfying!!\n",
      "    Answer the question based on the context above. Provide the product id associated with the answer as well. If the\n",
      "    information to answer the question is not present in the given context then reply \"I don't know\".\n",
      "    Query: Great taffy\n",
      "    Answer: \n"
     ]
    }
   ],
   "source": [
    "prompt = template.format(context=context, query=userQuestion)\n",
    "print(prompt)"
   ]
  },
  {
   "cell_type": "code",
   "execution_count": 20,
   "metadata": {},
   "outputs": [
    {
     "name": "stdout",
     "output_type": "stream",
     "text": [
      " Product ID: B006K2ZZ7K\n"
     ]
    }
   ],
   "source": [
    "response = openai.Completion.create(\n",
    "    engine= config[\"openai_deployment_completion\"],\n",
    "    prompt=prompt,\n",
    "    max_tokens=1024,\n",
    "    n=1,\n",
    "    stop=None,\n",
    "    temperature=1,\n",
    ")\n",
    "\n",
    "print(response['choices'][0]['text'])"
   ]
  },
  {
   "cell_type": "code",
   "execution_count": 21,
   "metadata": {},
   "outputs": [],
   "source": [
    "client.close()"
   ]
  }
 ],
 "metadata": {
  "kernelspec": {
   "display_name": "base",
   "language": "python",
   "name": "python3"
  },
  "language_info": {
   "codemirror_mode": {
    "name": "ipython",
    "version": 3
   },
   "file_extension": ".py",
   "mimetype": "text/x-python",
   "name": "python",
   "nbconvert_exporter": "python",
   "pygments_lexer": "ipython3",
   "version": "3.10.11"
  },
  "orig_nbformat": 4
 },
 "nbformat": 4,
 "nbformat_minor": 2
}
